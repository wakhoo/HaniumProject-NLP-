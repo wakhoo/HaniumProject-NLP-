{
 "cells": [
  {
   "cell_type": "code",
   "execution_count": null,
   "metadata": {
    "collapsed": true
   },
   "outputs": [],
   "source": [
    "\n",
    "\n",
    "import pandas as pd\n",
    "import nltk\n",
    "data = pd.read_csv(r'train_clean2.csv', error_bad_lines=False,encoding=\"cp949\")\n",
    "\n",
    "#print(len(data))  #1000002개의 데이터\n",
    "\n",
    "#print(data.head(5)) # 상위 5개의 데이터만 출력\n",
    "\n",
    "text = data[['abstract']] # text 열만 별도로 저장\n",
    "#print(text.head(5)) # 확인\n",
    "\n",
    "text['abstract'] = text.apply(lambda row: nltk.word_tokenize(row['abstract']), axis=1) #문제해결을 위한 토큰화\n",
    "#print(text.head(5))\n",
    "\n",
    "from nltk.stem import WordNetLemmatizer\n",
    "text['abstract'] = text['abstract'].apply(lambda x: [WordNetLemmatizer().lemmatize(word, pos='v') for word in x])\n",
    "#print(text.head(5))\n",
    "\n",
    "tokenized_doc = text['abstract'].apply(lambda x: [word for word in x if len(word) > 3])\n",
    "#print(tokenized_doc[:5])\n",
    "#X=data.fit_transform(data['abstract'])\n",
    "\n",
    "\n",
    "detokenized_doc = []\n",
    "for i in range(len(text)):\n",
    "    t = ' '.join(tokenized_doc[i])\n",
    "    detokenized_doc.append(t)\n",
    "\n",
    "text['abstract'] = detokenized_doc # 다시 text['headline_text']에 재저장\n",
    "\n",
    "#print(text['abstract'][:5])\n",
    "\n",
    "\n",
    "from sklearn.feature_extraction.text import TfidfVectorizer\n",
    "vectorizer = TfidfVectorizer(stop_words='english') # 상위 1,000개의 단어를 보존\n",
    "X = vectorizer.fit_transform(text['abstract'])\n",
    "#print(X.shape) # TF-IDF 행렬의 크기 확인\n",
    "\n",
    "from sklearn.decomposition import LatentDirichletAllocation\n",
    "lda_model=LatentDirichletAllocation(n_components=5,learning_method='online',random_state=777,max_iter=1)\n",
    "\n",
    "\n",
    "lda_top=lda_model.fit_transform(X)\n",
    "\n",
    "#print(lda_model.components_)\n",
    "#print(lda_model.components_.shape)\n",
    "\n",
    "terms = vectorizer.get_feature_names() # 단어 집합. 1,000개의 단어가 저장됨.\n",
    "\n",
    "def get_topics(components, feature_names, n=5):\n",
    "    for idx, topic in enumerate(components):\n",
    "        print(\"Topic %d:\" % (idx+1), [(feature_names[i], topic[i].round(2)) for i in topic.argsort()[:-n - 1:-1]])\n",
    "get_topics(lda_model.components_,terms)\n",
    "\n",
    "#import pyLDAvis as p\n",
    "import pyLDAvis\n",
    "from pyLDAvis import sklearn\n",
    "\n",
    "#p.enable_notebook()\n",
    "pyLDAvis.enable_notebook()\n",
    "panel = sklearn.prepare(lda_model, X, vectorizer, mds='tsne')\n",
    "panel\n",
    "pyLDAvis.save_html(panel, 'LDA_Visualization.html')\n",
    "\n",
    "# from sklearn.decomposition import PCA\n",
    "# topic_vector = lda_top.expElogbeta\n",
    "# y = PCA(n_components=2).fit_transform(topic_vector)\n",
    "\n",
    "# print('{} -> {}'.format(topic_vector.shape, y.shape))\n",
    "# (n_topics, n_terms) -> (n_topics, 2)"
   ]
  }
 ],
 "metadata": {
  "kernelspec": {
   "display_name": "Python 3",
   "language": "python",
   "name": "python3"
  },
  "language_info": {
   "codemirror_mode": {
    "name": "ipython",
    "version": 2
   },
   "file_extension": ".py",
   "mimetype": "text/x-python",
   "name": "python",
   "nbconvert_exporter": "python",
   "pygments_lexer": "ipython2",
   "version": "2.7.6"
  },
  "pycharm": {
   "stem_cell": {
    "cell_type": "raw",
    "source": [],
    "metadata": {
     "collapsed": false
    }
   }
  }
 },
 "nbformat": 4,
 "nbformat_minor": 0
}